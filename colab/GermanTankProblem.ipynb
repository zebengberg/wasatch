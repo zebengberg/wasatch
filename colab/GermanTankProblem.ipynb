{
  "nbformat": 4,
  "nbformat_minor": 0,
  "metadata": {
    "colab": {
      "name": "GermanTankProblem.ipynb",
      "provenance": [],
      "collapsed_sections": [],
      "include_colab_link": true
    },
    "kernelspec": {
      "name": "python3",
      "display_name": "Python 3"
    },
    "widgets": {
      "application/vnd.jupyter.widget-state+json": {
        "0585c558339b495d9d0ee7a18796efda": {
          "model_module": "@jupyter-widgets/controls",
          "model_name": "HBoxModel",
          "state": {
            "_view_name": "HBoxView",
            "_dom_classes": [],
            "_model_name": "HBoxModel",
            "_view_module": "@jupyter-widgets/controls",
            "_model_module_version": "1.5.0",
            "_view_count": null,
            "_view_module_version": "1.5.0",
            "box_style": "",
            "layout": "IPY_MODEL_cd6c645eb3d84d068567320c25b6542e",
            "_model_module": "@jupyter-widgets/controls",
            "children": [
              "IPY_MODEL_b5b3a9a9e3404c9298f7a73a0cad73d7",
              "IPY_MODEL_f68039ce5749429fb4b4df89465de871"
            ]
          }
        },
        "cd6c645eb3d84d068567320c25b6542e": {
          "model_module": "@jupyter-widgets/base",
          "model_name": "LayoutModel",
          "state": {
            "_view_name": "LayoutView",
            "grid_template_rows": null,
            "right": null,
            "justify_content": null,
            "_view_module": "@jupyter-widgets/base",
            "overflow": null,
            "_model_module_version": "1.2.0",
            "_view_count": null,
            "flex_flow": null,
            "width": null,
            "min_width": null,
            "border": null,
            "align_items": null,
            "bottom": null,
            "_model_module": "@jupyter-widgets/base",
            "top": null,
            "grid_column": null,
            "overflow_y": null,
            "overflow_x": null,
            "grid_auto_flow": null,
            "grid_area": null,
            "grid_template_columns": null,
            "flex": null,
            "_model_name": "LayoutModel",
            "justify_items": null,
            "grid_row": null,
            "max_height": null,
            "align_content": null,
            "visibility": null,
            "align_self": null,
            "height": null,
            "min_height": null,
            "padding": null,
            "grid_auto_rows": null,
            "grid_gap": null,
            "max_width": null,
            "order": null,
            "_view_module_version": "1.2.0",
            "grid_template_areas": null,
            "object_position": null,
            "object_fit": null,
            "grid_auto_columns": null,
            "margin": null,
            "display": null,
            "left": null
          }
        },
        "b5b3a9a9e3404c9298f7a73a0cad73d7": {
          "model_module": "@jupyter-widgets/controls",
          "model_name": "FloatProgressModel",
          "state": {
            "_view_name": "ProgressView",
            "style": "IPY_MODEL_c4536129493a4258bfa18954e5b85607",
            "_dom_classes": [],
            "description": "100%",
            "_model_name": "FloatProgressModel",
            "bar_style": "success",
            "max": 100000,
            "_view_module": "@jupyter-widgets/controls",
            "_model_module_version": "1.5.0",
            "value": 100000,
            "_view_count": null,
            "_view_module_version": "1.5.0",
            "orientation": "horizontal",
            "min": 0,
            "description_tooltip": null,
            "_model_module": "@jupyter-widgets/controls",
            "layout": "IPY_MODEL_4a4832edc8364952be5542aadba47497"
          }
        },
        "f68039ce5749429fb4b4df89465de871": {
          "model_module": "@jupyter-widgets/controls",
          "model_name": "HTMLModel",
          "state": {
            "_view_name": "HTMLView",
            "style": "IPY_MODEL_8670cdef053848a49b7ae76229feda26",
            "_dom_classes": [],
            "description": "",
            "_model_name": "HTMLModel",
            "placeholder": "​",
            "_view_module": "@jupyter-widgets/controls",
            "_model_module_version": "1.5.0",
            "value": " 100000/100000 [01:57&lt;00:00, 848.64it/s]",
            "_view_count": null,
            "_view_module_version": "1.5.0",
            "description_tooltip": null,
            "_model_module": "@jupyter-widgets/controls",
            "layout": "IPY_MODEL_63cba40a348a4284bef930bdd5f4dac3"
          }
        },
        "c4536129493a4258bfa18954e5b85607": {
          "model_module": "@jupyter-widgets/controls",
          "model_name": "ProgressStyleModel",
          "state": {
            "_view_name": "StyleView",
            "_model_name": "ProgressStyleModel",
            "description_width": "initial",
            "_view_module": "@jupyter-widgets/base",
            "_model_module_version": "1.5.0",
            "_view_count": null,
            "_view_module_version": "1.2.0",
            "bar_color": null,
            "_model_module": "@jupyter-widgets/controls"
          }
        },
        "4a4832edc8364952be5542aadba47497": {
          "model_module": "@jupyter-widgets/base",
          "model_name": "LayoutModel",
          "state": {
            "_view_name": "LayoutView",
            "grid_template_rows": null,
            "right": null,
            "justify_content": null,
            "_view_module": "@jupyter-widgets/base",
            "overflow": null,
            "_model_module_version": "1.2.0",
            "_view_count": null,
            "flex_flow": null,
            "width": null,
            "min_width": null,
            "border": null,
            "align_items": null,
            "bottom": null,
            "_model_module": "@jupyter-widgets/base",
            "top": null,
            "grid_column": null,
            "overflow_y": null,
            "overflow_x": null,
            "grid_auto_flow": null,
            "grid_area": null,
            "grid_template_columns": null,
            "flex": null,
            "_model_name": "LayoutModel",
            "justify_items": null,
            "grid_row": null,
            "max_height": null,
            "align_content": null,
            "visibility": null,
            "align_self": null,
            "height": null,
            "min_height": null,
            "padding": null,
            "grid_auto_rows": null,
            "grid_gap": null,
            "max_width": null,
            "order": null,
            "_view_module_version": "1.2.0",
            "grid_template_areas": null,
            "object_position": null,
            "object_fit": null,
            "grid_auto_columns": null,
            "margin": null,
            "display": null,
            "left": null
          }
        },
        "8670cdef053848a49b7ae76229feda26": {
          "model_module": "@jupyter-widgets/controls",
          "model_name": "DescriptionStyleModel",
          "state": {
            "_view_name": "StyleView",
            "_model_name": "DescriptionStyleModel",
            "description_width": "",
            "_view_module": "@jupyter-widgets/base",
            "_model_module_version": "1.5.0",
            "_view_count": null,
            "_view_module_version": "1.2.0",
            "_model_module": "@jupyter-widgets/controls"
          }
        },
        "63cba40a348a4284bef930bdd5f4dac3": {
          "model_module": "@jupyter-widgets/base",
          "model_name": "LayoutModel",
          "state": {
            "_view_name": "LayoutView",
            "grid_template_rows": null,
            "right": null,
            "justify_content": null,
            "_view_module": "@jupyter-widgets/base",
            "overflow": null,
            "_model_module_version": "1.2.0",
            "_view_count": null,
            "flex_flow": null,
            "width": null,
            "min_width": null,
            "border": null,
            "align_items": null,
            "bottom": null,
            "_model_module": "@jupyter-widgets/base",
            "top": null,
            "grid_column": null,
            "overflow_y": null,
            "overflow_x": null,
            "grid_auto_flow": null,
            "grid_area": null,
            "grid_template_columns": null,
            "flex": null,
            "_model_name": "LayoutModel",
            "justify_items": null,
            "grid_row": null,
            "max_height": null,
            "align_content": null,
            "visibility": null,
            "align_self": null,
            "height": null,
            "min_height": null,
            "padding": null,
            "grid_auto_rows": null,
            "grid_gap": null,
            "max_width": null,
            "order": null,
            "_view_module_version": "1.2.0",
            "grid_template_areas": null,
            "object_position": null,
            "object_fit": null,
            "grid_auto_columns": null,
            "margin": null,
            "display": null,
            "left": null
          }
        }
      }
    }
  },
  "cells": [
    {
      "cell_type": "markdown",
      "metadata": {
        "id": "view-in-github",
        "colab_type": "text"
      },
      "source": [
        "<a href=\"https://colab.research.google.com/github/zebengberg/wasatch/blob/master/colab/GermanTankProblem.ipynb\" target=\"_parent\"><img src=\"https://colab.research.google.com/assets/colab-badge.svg\" alt=\"Open In Colab\"/></a>"
      ]
    },
    {
      "cell_type": "markdown",
      "metadata": {
        "id": "mwdW61XlHSHv"
      },
      "source": [
        "# German Tank Problem\n",
        "> Wasatch Academy Statistics Jan 2019\n",
        "\n",
        "> Updated April 2021\n",
        "\n",
        "---\n",
        "\n",
        "During World War II, it was important for allied commanders to know the size of Germany’s armed forces so that they could allocate their own troops and resources accordingly. In particular, they need to know the total number of tanks in Germany’s arsenal. The allies could not capture and count ALL the German tanks (if they could, the war would have already ended).  Each tank had a sequential serial number on it: 1, 2, 3, and so on.  The number of tanks would then be equal to the highest serial number.  Allied forces were able to capture a handful of tanks and record their serial numbers.  They then enlisted a group of mathematicians in Washington DC to help them.  \n",
        "\n",
        "The list of known serial numbers constituted the **sample**.  The mathematicians came up with a **statistic** -- a formula which they employed to **predict** the total number of German tanks from the known sample.   To see how accurate their statistic was, the Allies simulated the sampling process many times.  The mathematicians then studied the **distribution of predictions**.  This simulation gives what is known as a **sampling distribution** and it can be done for every statistic.  \n",
        "\n",
        "In this activity, you will play the role of the mathematician by creating your own predictive statistic and analyzing its sampling distribution."
      ]
    },
    {
      "cell_type": "code",
      "metadata": {
        "id": "kcIKqLLA_wv0"
      },
      "source": [
        "from collections import defaultdict\n",
        "import numpy as np\n",
        "import matplotlib.pyplot as plt\n",
        "from IPython.display import clear_output\n",
        "from tqdm.notebook import trange"
      ],
      "execution_count": null,
      "outputs": []
    },
    {
      "cell_type": "markdown",
      "metadata": {
        "id": "VZ5WhdZvH9N0"
      },
      "source": [
        "Below is a random sample of 10 of the first 100 whole numbers.  Each time you run the cell below, you will obtain a different random sample."
      ]
    },
    {
      "cell_type": "code",
      "metadata": {
        "id": "N5vb6ToTAHVD",
        "colab": {
          "base_uri": "https://localhost:8080/"
        },
        "outputId": "f09b9ea1-3f7d-4ec7-a97c-fc1b3b4c27f0"
      },
      "source": [
        "print(np.random.choice(np.arange(1, 101), 10))"
      ],
      "execution_count": null,
      "outputs": [
        {
          "output_type": "stream",
          "text": [
            "[40 88  2 69 65 52 56 66 48 25]\n"
          ],
          "name": "stdout"
        }
      ]
    },
    {
      "cell_type": "markdown",
      "metadata": {
        "id": "19nPm4JJJ6AV"
      },
      "source": [
        "Suppose that the number $N$ is hidden from you, and you consider samples drawn from the whole numbers $1, 2, 3, 4, ..., N$.  Below you have a random sample of size 10.  Based on this sample, try to predict $N$."
      ]
    },
    {
      "cell_type": "code",
      "metadata": {
        "id": "tAN5yVdYAMLS",
        "colab": {
          "base_uri": "https://localhost:8080/"
        },
        "outputId": "23a8220a-1256-408f-8898-dcc802279237"
      },
      "source": [
        "N = np.random.randint(100, 1000)\n",
        "print(np.random.choice(np.arange(1, N+1), 10))"
      ],
      "execution_count": null,
      "outputs": [
        {
          "output_type": "stream",
          "text": [
            "[ 61 145 178   2 119  97  60  60 194 198]\n"
          ],
          "name": "stdout"
        }
      ]
    },
    {
      "cell_type": "markdown",
      "metadata": {
        "id": "CL6iCkHHMIbm"
      },
      "source": [
        "Do you have a prediction for $N$?  To check how close your prediction is to the truth, run the cell below."
      ]
    },
    {
      "cell_type": "code",
      "metadata": {
        "id": "eqEj0hUsAMtp",
        "colab": {
          "base_uri": "https://localhost:8080/"
        },
        "outputId": "9f6bbe32-7bb7-4213-8d2d-1dbd66a6fb05"
      },
      "source": [
        "N"
      ],
      "execution_count": null,
      "outputs": [
        {
          "output_type": "execute_result",
          "data": {
            "text/plain": [
              "240"
            ]
          },
          "metadata": {
            "tags": []
          },
          "execution_count": 4
        }
      ]
    },
    {
      "cell_type": "markdown",
      "metadata": {
        "id": "m90qNxD2MYfS"
      },
      "source": [
        "## Instructions\n",
        "\n",
        "In this activity, you will be given a sample consisting of 50 of the first $N$ whole numbers.  Your goal is to create a function which, based on the values of the sample, predicts the number $N$.  The input of your function is the sample of the 50 known values, and the output of your function is your prediction for $N$.\n",
        "\n",
        "Below we define the class `Predictions` which will:\n",
        "- keep track of your prediction function\n",
        "- simulate your function on samples using a trial value of $N=333$\n",
        "- act as an agent to make a prediction from the competition sample using a hidden value of $N$"
      ]
    },
    {
      "cell_type": "code",
      "metadata": {
        "id": "e36dCwt0lju8"
      },
      "source": [
        "class Predictions:\n",
        "  \n",
        "  def __init__(self, name):\n",
        "    self.name = name\n",
        "    self.predict = lambda x: None  # an empty function which will be filled\n",
        "    self.N = 333  # a test number for simulation purposes\n",
        "    self.predictions = []\n",
        "    \n",
        "    \n",
        "  def batch_predict(self, n_samples):\n",
        "    for _ in range(n_samples):\n",
        "      sample = np.random.choice(self.N, 50)\n",
        "      result = self.predict(sample)\n",
        "      self.predictions.append(result)\n",
        "\n",
        "  \n",
        "  def hist(self):\n",
        "    self.batch_predict(10000)\n",
        "    bins = np.arange(self.N - 100, self.N + 100) - 0.5\n",
        "    plt.figure(figsize=(12, 8))\n",
        "    plt.hist(self.predictions, bins)\n",
        "    plt.xlabel('Prediction Value')\n",
        "    plt.ylabel('Frequency')\n",
        "    plt.axvline(x=self.N, color='yellow')\n",
        "    plt.show()\n",
        "    \n",
        "    \n",
        "  def dotplot(self):\n",
        "    dots = defaultdict(int)\n",
        "    while True:\n",
        "      print('Press ENTER, or give a number of samples, or type \"stop\"')\n",
        "      run = input('')\n",
        "      if run == 'stop':\n",
        "        break\n",
        "\n",
        "      try:\n",
        "        n_samples = int(run)\n",
        "      except ValueError:\n",
        "        n_samples = 1\n",
        "        \n",
        "      self.batch_predict(n_samples)\n",
        "      preds = self.predictions[-n_samples:]\n",
        "      \n",
        "      for pred in preds:\n",
        "        dots[pred] += 1\n",
        "\n",
        "      clear_output()\n",
        "      plt.figure(figsize=(10, 6))\n",
        "      plt.xlim(\n",
        "          min(self.N - 5, min(dots.keys()) - 1),\n",
        "          max(self.N + 5, max(dots.keys()) + 1)\n",
        "      )\n",
        "      plt.ylim(0, max(10, max(dots.values()) + 1))\n",
        "      plt.xlabel('Predicted N')\n",
        "      plt.ylabel('Number of predictions')\n",
        "      plt.axvline(x=self.N, color='yellow')\n",
        "\n",
        "      x, y = [], []\n",
        "      for k, v in dots.items():\n",
        "        x += [k for s in range(v)] \n",
        "        y += list(range(1, v + 1))\n",
        "\n",
        "      plt.plot(x, y, 'bo')\n",
        "      plt.plot(self.predictions[-1], dots[self.predictions[-1]], 'ro')\n",
        "      plt.show()"
      ],
      "execution_count": null,
      "outputs": []
    },
    {
      "cell_type": "markdown",
      "metadata": {
        "id": "WVSne5B7hk4J"
      },
      "source": [
        "## Demonstration\n",
        "\n",
        "Here we define an object called `harold`.  We record its prediction function as `harold.f`.  Note that our prediction function takes the maximum of the given sample."
      ]
    },
    {
      "cell_type": "code",
      "metadata": {
        "id": "Kw09mIGCgRxl"
      },
      "source": [
        "harold = Predictions('harold')\n",
        "harold.predict = lambda x: np.max(x)"
      ],
      "execution_count": null,
      "outputs": []
    },
    {
      "cell_type": "markdown",
      "metadata": {
        "id": "hDqnK8dyj7MM"
      },
      "source": [
        "We pull samples of size 50 from the numbers $1, 2, 3, ..., N$ where $N=333$.  The `harold` prediction function gives the max value of the sample set.  Below is a dotplot of this process over many samples.  The true value of $N$ is the yellow vertical line."
      ]
    },
    {
      "cell_type": "code",
      "metadata": {
        "id": "X16E-u-hjreJ",
        "colab": {
          "base_uri": "https://localhost:8080/",
          "height": 426
        },
        "outputId": "1fbabe16-922f-4672-b433-f24f25854844"
      },
      "source": [
        "harold.dotplot()"
      ],
      "execution_count": null,
      "outputs": [
        {
          "output_type": "display_data",
          "data": {
            "image/png": "[encoded data removed]",
            "text/plain": [
              "<Figure size 720x432 with 1 Axes>"
            ]
          },
          "metadata": {
            "tags": [],
            "needs_background": "light"
          }
        },
        {
          "output_type": "stream",
          "text": [
            "Press ENTER, or give a number of samples, or type \"stop\"\n",
            "stop\n"
          ],
          "name": "stdout"
        }
      ]
    },
    {
      "cell_type": "markdown",
      "metadata": {
        "id": "o4UgP0yNe9tY"
      },
      "source": [
        "If we continue to do this for 10000 samples, we obtain the following histogram.  The bin-size of this histogram is 1."
      ]
    },
    {
      "cell_type": "code",
      "metadata": {
        "id": "guJivGexQEvi",
        "colab": {
          "base_uri": "https://localhost:8080/",
          "height": 497
        },
        "outputId": "435fa639-7119-43e4-b8fc-cefddfb9e5ec"
      },
      "source": [
        "harold.hist()"
      ],
      "execution_count": null,
      "outputs": [
        {
          "output_type": "display_data",
          "data": {
            "image/png": "[encoded data removed]",
            "text/plain": [
              "<Figure size 864x576 with 1 Axes>"
            ]
          },
          "metadata": {
            "tags": [],
            "needs_background": "light"
          }
        }
      ]
    },
    {
      "cell_type": "markdown",
      "metadata": {
        "id": "Ql0atxGUrVAo"
      },
      "source": [
        "Below are several examples of `Predictions` object.  The objects all contain their own demo functions."
      ]
    },
    {
      "cell_type": "code",
      "metadata": {
        "id": "IRU5gT66pFOF"
      },
      "source": [
        "annie = Predictions('annie')\n",
        "annie.predict = lambda x:  np.percentile(x, 40) + np.percentile(x, 60)\n",
        "\n",
        "\n",
        "billy = Predictions('billy')\n",
        "billy.predict = lambda x: 300 + np.percentile(x, 30)**(.8)\n",
        "\n",
        "\n",
        "agents = [harold, annie, billy]"
      ],
      "execution_count": null,
      "outputs": []
    },
    {
      "cell_type": "markdown",
      "metadata": {
        "id": "yzKcekfiwoci"
      },
      "source": [
        "We can visualize their histograms on the same axes to get a sense of their shape, bias, center, and spread.  We run each prediction function on 10,000 samples."
      ]
    },
    {
      "cell_type": "code",
      "metadata": {
        "id": "jVF0fiFnpJIu",
        "colab": {
          "base_uri": "https://localhost:8080/",
          "height": 483
        },
        "outputId": "c23365a5-7adb-4f83-f44f-dffa4af2898e"
      },
      "source": [
        "bins = np.arange(200, 500) - 0.5\n",
        "\n",
        "plt.figure(figsize=(12, 8))\n",
        "\n",
        "for agent in agents:\n",
        "  agent.batch_predict(10000)\n",
        "  plt.hist(agent.predictions, bins, alpha=0.5, label=agent.name)\n",
        "  plt.axvline(x=agent.N, color='yellow')\n",
        "\n",
        "plt.legend(loc='upper right')\n",
        "plt.show()"
      ],
      "execution_count": null,
      "outputs": [
        {
          "output_type": "display_data",
          "data": {
            "image/png": "[encoded data removed]",
            "text/plain": [
              "<Figure size 864x576 with 1 Axes>"
            ]
          },
          "metadata": {
            "tags": [],
            "needs_background": "light"
          }
        }
      ]
    },
    {
      "cell_type": "markdown",
      "metadata": {
        "id": "x3hWMtedWY12"
      },
      "source": [
        "A histogram inspiring by student questions.  The three statistics below sum the $k$th percentile with the $(100-k)$th percentile.  Note the spread of the three sampling distributions."
      ]
    },
    {
      "cell_type": "code",
      "metadata": {
        "id": "owfm_AfB5eIj",
        "colab": {
          "base_uri": "https://localhost:8080/",
          "height": 483
        },
        "outputId": "1a52f190-8fd6-4494-fdc6-7ecb73142c38"
      },
      "source": [
        "agents = [Predictions('test0'), Predictions('test10'), Predictions('test40')]\n",
        "\n",
        "agents[0].predict = lambda x: np.percentile(x, 0) + np.percentile(x, 100)\n",
        "agents[1].predict = lambda x: np.percentile(x, 10) + np.percentile(x, 90)\n",
        "agents[2].predict = lambda x: np.percentile(x, 40) + np.percentile(x, 60)\n",
        "\n",
        "\n",
        "bins = np.arange(200, 500) - 0.5\n",
        "\n",
        "plt.figure(figsize=(12, 8))\n",
        "\n",
        "for agent in agents:\n",
        "  agent.batch_predict(20000)\n",
        "  \n",
        "  plt.hist(agent.predictions, bins, alpha=0.5, label=agent.name)\n",
        "  plt.axvline(x=agent.N, color='yellow')\n",
        "\n",
        "plt.legend(loc='upper right')\n",
        "plt.show()"
      ],
      "execution_count": null,
      "outputs": [
        {
          "output_type": "display_data",
          "data": {
            "image/png": "[encoded data removed]",
            "text/plain": [
              "<Figure size 864x576 with 1 Axes>"
            ]
          },
          "metadata": {
            "tags": [],
            "needs_background": "light"
          }
        }
      ]
    },
    {
      "cell_type": "markdown",
      "metadata": {
        "id": "3qwi1eWhkMdD"
      },
      "source": [
        "## Student Statistics, Jan 2019"
      ]
    },
    {
      "cell_type": "code",
      "metadata": {
        "id": "7R0IC-3IkVsw"
      },
      "source": [
        "agents = []\n",
        "\n",
        "####################\n",
        "# Sam, Monty, Willow\n",
        "####################\n",
        "\n",
        "agent = Predictions('smw')\n",
        "agent.predict = lambda x: int(np.max(x) + (np.max(x) - np.min(x)) / 49)\n",
        "agents.append(agent)\n",
        "\n",
        "agent = Predictions('smw2')\n",
        "agent.predict = lambda x: int(np.max(x) + np.min(x))\n",
        "agents.append(agent)\n",
        "\n",
        "\n",
        "#####################\n",
        "# Arina, Sean, Karuna\n",
        "#####################\n",
        "\n",
        "agent = Predictions('ksa')\n",
        "agent.predict = lambda x: int(np.min(x) + 2*(np.percentile(x, 75) - np.percentile(x, 25)))\n",
        "agents.append(agent)\n",
        "\n",
        "agent = Predictions('ksa2')\n",
        "agent.predict = lambda x: int(np.mean(x) + np.percentile(x, 75) - np.percentile(x, 25))\n",
        "agents.append(agent)\n",
        "\n",
        "\n",
        "####################\n",
        "# Teagan, Mae, Logan\n",
        "####################\n",
        "\n",
        "agent = Predictions('toejam')\n",
        "agent.predict = lambda x: int(np.max(x) + .05*np.std(x))\n",
        "agents.append(agent)\n",
        "\n",
        "agent = Predictions('toejam2')\n",
        "agent.predict = lambda x: int(np.percentile(x, 5) + np.percentile(x, 95))\n",
        "agents.append(agent)"
      ],
      "execution_count": null,
      "outputs": []
    },
    {
      "cell_type": "markdown",
      "metadata": {
        "id": "KuVrqdHScMp2"
      },
      "source": [
        "### The tournament\n",
        "\n",
        "Now that we have all of the agents with their prediction functions, they will compete to predict the number $N$ with the most accuracy.\n",
        "\n",
        "We run one million rounds in this tournament.  In each round, the agents make predictions, and we track various errors between their prediction and the truth."
      ]
    },
    {
      "cell_type": "code",
      "metadata": {
        "id": "xCluwV2B5gTe",
        "colab": {
          "base_uri": "https://localhost:8080/",
          "height": 66,
          "referenced_widgets": [
            "0585c558339b495d9d0ee7a18796efda",
            "cd6c645eb3d84d068567320c25b6542e",
            "b5b3a9a9e3404c9298f7a73a0cad73d7",
            "f68039ce5749429fb4b4df89465de871",
            "c4536129493a4258bfa18954e5b85607",
            "4a4832edc8364952be5542aadba47497",
            "8670cdef053848a49b7ae76229feda26",
            "63cba40a348a4284bef930bdd5f4dac3"
          ]
        },
        "outputId": "e37d4215-238f-4a40-8804-064afce4d89d"
      },
      "source": [
        "for agent in agents:\n",
        "  agent.mse = 0  # mean squared error\n",
        "  agent.mae = 0  # mean absolute error\n",
        "  agent.mde = 0  # mean diff (signed) error\n",
        "  agent.n_bullseye = 0\n",
        "\n",
        "\n",
        "n_rounds = 100_000\n",
        "for _ in trange(n_rounds):\n",
        "  N = np.random.randint(500, 1000) # The hidden number to be used in the round.\n",
        "  sample = np.random.choice(N, 50) # The sample which is known by all agents.\n",
        "\n",
        "  for agent in agents:\n",
        "    pred = agent.predict(sample)\n",
        "    error = pred - N\n",
        "    agent.mde += error\n",
        "    agent.mae += abs(error)\n",
        "    agent.mse += error ** 2\n",
        "    if error == 0:\n",
        "      agent.n_bullseye += 1\n",
        "\n",
        "for agent in agents:\n",
        "  agent.mde /= n_rounds\n",
        "  agent.mae /= n_rounds\n",
        "  agent.mse /= n_rounds"
      ],
      "execution_count": null,
      "outputs": [
        {
          "output_type": "display_data",
          "data": {
            "application/vnd.jupyter.widget-view+json": {
              "model_id": "0585c558339b495d9d0ee7a18796efda",
              "version_minor": 0,
              "version_major": 2
            },
            "text/plain": [
              "HBox(children=(FloatProgress(value=0.0, max=100000.0), HTML(value='')))"
            ]
          },
          "metadata": {
            "tags": []
          }
        },
        {
          "output_type": "stream",
          "text": [
            "\n"
          ],
          "name": "stdout"
        }
      ]
    },
    {
      "cell_type": "markdown",
      "metadata": {
        "id": "4rkZBO5fZ6xq"
      },
      "source": [
        "Printing the results."
      ]
    },
    {
      "cell_type": "code",
      "metadata": {
        "id": "xJjq7UdhaCsI",
        "colab": {
          "base_uri": "https://localhost:8080/"
        },
        "outputId": "38b5b0c3-6e7a-4212-8303-3563febd4c9f"
      },
      "source": [
        "long_names = {\n",
        "    'mae': 'Mean Absolute Error',\n",
        "    'mse': 'Mean Squared Error',\n",
        "    'mde': 'Mean Signed Error',\n",
        "    'n_bullseye': 'Number of Bullseyes'\n",
        "}\n",
        "for metric in ['mae', 'mse', 'mde', 'n_bullseye']:\n",
        "  scores = [(agent.name, getattr(agent, metric)) for agent in agents]\n",
        "  scores = sorted(scores, key=lambda x: x[1])\n",
        "  print(f'{\"NAME\" : <10}{long_names[metric].upper()}')\n",
        "  for score in scores:\n",
        "    name, value = score\n",
        "    print(f'{name : <10}{value}')\n",
        "\n",
        "  print('\\n' + '#' * 50 + '\\n\\n')"
      ],
      "execution_count": null,
      "outputs": [
        {
          "output_type": "stream",
          "text": [
            "NAME      MEAN ABSOLUTE ERROR\n",
            "toejam    10.31387\n",
            "smw       10.72038\n",
            "smw2      14.65621\n",
            "toejam2   28.6049\n",
            "ksa2      49.06147\n",
            "ksa       82.25235\n",
            "\n",
            "##################################################\n",
            "\n",
            "\n",
            "NAME      MEAN SQUARED ERROR\n",
            "smw       226.90056\n",
            "toejam    249.84819\n",
            "smw2      437.75457\n",
            "toejam2   1411.63348\n",
            "ksa2      3949.44587\n",
            "ksa       10924.27021\n",
            "\n",
            "##################################################\n",
            "\n",
            "\n",
            "NAME      MEAN SIGNED ERROR\n",
            "ksa2      -15.66109\n",
            "ksa       -15.60669\n",
            "toejam    -5.05247\n",
            "toejam2   -1.52994\n",
            "smw2      -1.10153\n",
            "smw       -1.02814\n",
            "\n",
            "##################################################\n",
            "\n",
            "\n",
            "NAME      NUMBER OF BULLSEYES\n",
            "ksa       415\n",
            "ksa2      671\n",
            "toejam2   1307\n",
            "smw       2771\n",
            "smw2      3287\n",
            "toejam    3748\n",
            "\n",
            "##################################################\n",
            "\n",
            "\n"
          ],
          "name": "stdout"
        }
      ]
    },
    {
      "cell_type": "markdown",
      "metadata": {
        "id": "3R21gfM_Thav"
      },
      "source": [
        "## Student Statistics, April 2021"
      ]
    },
    {
      "cell_type": "code",
      "metadata": {
        "id": "e06O8avFTjwH"
      },
      "source": [
        ""
      ],
      "execution_count": null,
      "outputs": []
    }
  ]
}