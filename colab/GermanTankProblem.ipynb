{
  "nbformat": 4,
  "nbformat_minor": 0,
  "metadata": {
    "colab": {
      "name": "GermanTankProblem.ipynb",
      "provenance": [],
      "collapsed_sections": [],
      "include_colab_link": true
    },
    "kernelspec": {
      "name": "python3",
      "display_name": "Python 3"
    },
    "widgets": {
      "application/vnd.jupyter.widget-state+json": {
        "7ba0c92e7fe0477cad994119a13dc4e6": {
          "model_module": "@jupyter-widgets/controls",
          "model_name": "HBoxModel",
          "state": {
            "_view_name": "HBoxView",
            "_dom_classes": [],
            "_model_name": "HBoxModel",
            "_view_module": "@jupyter-widgets/controls",
            "_model_module_version": "1.5.0",
            "_view_count": null,
            "_view_module_version": "1.5.0",
            "box_style": "",
            "layout": "IPY_MODEL_b4a10b43e4bd40cf809d1b44bb1ef828",
            "_model_module": "@jupyter-widgets/controls",
            "children": [
              "IPY_MODEL_1350f8105d824aab9b9498cfaf368ac1",
              "IPY_MODEL_f473eeb04db2403d9107c9eb14867fd6"
            ]
          }
        },
        "b4a10b43e4bd40cf809d1b44bb1ef828": {
          "model_module": "@jupyter-widgets/base",
          "model_name": "LayoutModel",
          "state": {
            "_view_name": "LayoutView",
            "grid_template_rows": null,
            "right": null,
            "justify_content": null,
            "_view_module": "@jupyter-widgets/base",
            "overflow": null,
            "_model_module_version": "1.2.0",
            "_view_count": null,
            "flex_flow": null,
            "width": null,
            "min_width": null,
            "border": null,
            "align_items": null,
            "bottom": null,
            "_model_module": "@jupyter-widgets/base",
            "top": null,
            "grid_column": null,
            "overflow_y": null,
            "overflow_x": null,
            "grid_auto_flow": null,
            "grid_area": null,
            "grid_template_columns": null,
            "flex": null,
            "_model_name": "LayoutModel",
            "justify_items": null,
            "grid_row": null,
            "max_height": null,
            "align_content": null,
            "visibility": null,
            "align_self": null,
            "height": null,
            "min_height": null,
            "padding": null,
            "grid_auto_rows": null,
            "grid_gap": null,
            "max_width": null,
            "order": null,
            "_view_module_version": "1.2.0",
            "grid_template_areas": null,
            "object_position": null,
            "object_fit": null,
            "grid_auto_columns": null,
            "margin": null,
            "display": null,
            "left": null
          }
        },
        "1350f8105d824aab9b9498cfaf368ac1": {
          "model_module": "@jupyter-widgets/controls",
          "model_name": "FloatProgressModel",
          "state": {
            "_view_name": "ProgressView",
            "style": "IPY_MODEL_237c0421036f4dc9974e45008b025e03",
            "_dom_classes": [],
            "description": "100%",
            "_model_name": "FloatProgressModel",
            "bar_style": "success",
            "max": 100000,
            "_view_module": "@jupyter-widgets/controls",
            "_model_module_version": "1.5.0",
            "value": 100000,
            "_view_count": null,
            "_view_module_version": "1.5.0",
            "orientation": "horizontal",
            "min": 0,
            "description_tooltip": null,
            "_model_module": "@jupyter-widgets/controls",
            "layout": "IPY_MODEL_e0aeffe6acae43eaa681a337aeb377df"
          }
        },
        "f473eeb04db2403d9107c9eb14867fd6": {
          "model_module": "@jupyter-widgets/controls",
          "model_name": "HTMLModel",
          "state": {
            "_view_name": "HTMLView",
            "style": "IPY_MODEL_131923b8ddc844f78a01dd7e3146c7f4",
            "_dom_classes": [],
            "description": "",
            "_model_name": "HTMLModel",
            "placeholder": "​",
            "_view_module": "@jupyter-widgets/controls",
            "_model_module_version": "1.5.0",
            "value": " 100000/100000 [01:29&lt;00:00, 1116.47it/s]",
            "_view_count": null,
            "_view_module_version": "1.5.0",
            "description_tooltip": null,
            "_model_module": "@jupyter-widgets/controls",
            "layout": "IPY_MODEL_1b90265c31f74686870f6b50295202e9"
          }
        },
        "237c0421036f4dc9974e45008b025e03": {
          "model_module": "@jupyter-widgets/controls",
          "model_name": "ProgressStyleModel",
          "state": {
            "_view_name": "StyleView",
            "_model_name": "ProgressStyleModel",
            "description_width": "initial",
            "_view_module": "@jupyter-widgets/base",
            "_model_module_version": "1.5.0",
            "_view_count": null,
            "_view_module_version": "1.2.0",
            "bar_color": null,
            "_model_module": "@jupyter-widgets/controls"
          }
        },
        "e0aeffe6acae43eaa681a337aeb377df": {
          "model_module": "@jupyter-widgets/base",
          "model_name": "LayoutModel",
          "state": {
            "_view_name": "LayoutView",
            "grid_template_rows": null,
            "right": null,
            "justify_content": null,
            "_view_module": "@jupyter-widgets/base",
            "overflow": null,
            "_model_module_version": "1.2.0",
            "_view_count": null,
            "flex_flow": null,
            "width": null,
            "min_width": null,
            "border": null,
            "align_items": null,
            "bottom": null,
            "_model_module": "@jupyter-widgets/base",
            "top": null,
            "grid_column": null,
            "overflow_y": null,
            "overflow_x": null,
            "grid_auto_flow": null,
            "grid_area": null,
            "grid_template_columns": null,
            "flex": null,
            "_model_name": "LayoutModel",
            "justify_items": null,
            "grid_row": null,
            "max_height": null,
            "align_content": null,
            "visibility": null,
            "align_self": null,
            "height": null,
            "min_height": null,
            "padding": null,
            "grid_auto_rows": null,
            "grid_gap": null,
            "max_width": null,
            "order": null,
            "_view_module_version": "1.2.0",
            "grid_template_areas": null,
            "object_position": null,
            "object_fit": null,
            "grid_auto_columns": null,
            "margin": null,
            "display": null,
            "left": null
          }
        },
        "131923b8ddc844f78a01dd7e3146c7f4": {
          "model_module": "@jupyter-widgets/controls",
          "model_name": "DescriptionStyleModel",
          "state": {
            "_view_name": "StyleView",
            "_model_name": "DescriptionStyleModel",
            "description_width": "",
            "_view_module": "@jupyter-widgets/base",
            "_model_module_version": "1.5.0",
            "_view_count": null,
            "_view_module_version": "1.2.0",
            "_model_module": "@jupyter-widgets/controls"
          }
        },
        "1b90265c31f74686870f6b50295202e9": {
          "model_module": "@jupyter-widgets/base",
          "model_name": "LayoutModel",
          "state": {
            "_view_name": "LayoutView",
            "grid_template_rows": null,
            "right": null,
            "justify_content": null,
            "_view_module": "@jupyter-widgets/base",
            "overflow": null,
            "_model_module_version": "1.2.0",
            "_view_count": null,
            "flex_flow": null,
            "width": null,
            "min_width": null,
            "border": null,
            "align_items": null,
            "bottom": null,
            "_model_module": "@jupyter-widgets/base",
            "top": null,
            "grid_column": null,
            "overflow_y": null,
            "overflow_x": null,
            "grid_auto_flow": null,
            "grid_area": null,
            "grid_template_columns": null,
            "flex": null,
            "_model_name": "LayoutModel",
            "justify_items": null,
            "grid_row": null,
            "max_height": null,
            "align_content": null,
            "visibility": null,
            "align_self": null,
            "height": null,
            "min_height": null,
            "padding": null,
            "grid_auto_rows": null,
            "grid_gap": null,
            "max_width": null,
            "order": null,
            "_view_module_version": "1.2.0",
            "grid_template_areas": null,
            "object_position": null,
            "object_fit": null,
            "grid_auto_columns": null,
            "margin": null,
            "display": null,
            "left": null
          }
        },
        "e46c96b94d7a4655afb9eff1bea596fd": {
          "model_module": "@jupyter-widgets/controls",
          "model_name": "HBoxModel",
          "state": {
            "_view_name": "HBoxView",
            "_dom_classes": [],
            "_model_name": "HBoxModel",
            "_view_module": "@jupyter-widgets/controls",
            "_model_module_version": "1.5.0",
            "_view_count": null,
            "_view_module_version": "1.5.0",
            "box_style": "",
            "layout": "IPY_MODEL_35c4146e4d584249af0ec4a4e6791bf0",
            "_model_module": "@jupyter-widgets/controls",
            "children": [
              "IPY_MODEL_f375024064cc48eba1c85c330878c69c",
              "IPY_MODEL_824b2b7edf624305adbf62f01a453a6c"
            ]
          }
        },
        "35c4146e4d584249af0ec4a4e6791bf0": {
          "model_module": "@jupyter-widgets/base",
          "model_name": "LayoutModel",
          "state": {
            "_view_name": "LayoutView",
            "grid_template_rows": null,
            "right": null,
            "justify_content": null,
            "_view_module": "@jupyter-widgets/base",
            "overflow": null,
            "_model_module_version": "1.2.0",
            "_view_count": null,
            "flex_flow": null,
            "width": null,
            "min_width": null,
            "border": null,
            "align_items": null,
            "bottom": null,
            "_model_module": "@jupyter-widgets/base",
            "top": null,
            "grid_column": null,
            "overflow_y": null,
            "overflow_x": null,
            "grid_auto_flow": null,
            "grid_area": null,
            "grid_template_columns": null,
            "flex": null,
            "_model_name": "LayoutModel",
            "justify_items": null,
            "grid_row": null,
            "max_height": null,
            "align_content": null,
            "visibility": null,
            "align_self": null,
            "height": null,
            "min_height": null,
            "padding": null,
            "grid_auto_rows": null,
            "grid_gap": null,
            "max_width": null,
            "order": null,
            "_view_module_version": "1.2.0",
            "grid_template_areas": null,
            "object_position": null,
            "object_fit": null,
            "grid_auto_columns": null,
            "margin": null,
            "display": null,
            "left": null
          }
        },
        "f375024064cc48eba1c85c330878c69c": {
          "model_module": "@jupyter-widgets/controls",
          "model_name": "FloatProgressModel",
          "state": {
            "_view_name": "ProgressView",
            "style": "IPY_MODEL_de44a9a7096f43548f68cd46b313a23e",
            "_dom_classes": [],
            "description": "100%",
            "_model_name": "FloatProgressModel",
            "bar_style": "success",
            "max": 100000,
            "_view_module": "@jupyter-widgets/controls",
            "_model_module_version": "1.5.0",
            "value": 100000,
            "_view_count": null,
            "_view_module_version": "1.5.0",
            "orientation": "horizontal",
            "min": 0,
            "description_tooltip": null,
            "_model_module": "@jupyter-widgets/controls",
            "layout": "IPY_MODEL_b8b838fb7631463eb3e0d193753d2e1c"
          }
        },
        "824b2b7edf624305adbf62f01a453a6c": {
          "model_module": "@jupyter-widgets/controls",
          "model_name": "HTMLModel",
          "state": {
            "_view_name": "HTMLView",
            "style": "IPY_MODEL_2c143d279f5b4329963b1923f9d2ca0d",
            "_dom_classes": [],
            "description": "",
            "_model_name": "HTMLModel",
            "placeholder": "​",
            "_view_module": "@jupyter-widgets/controls",
            "_model_module_version": "1.5.0",
            "value": " 100000/100000 [02:32&lt;00:00, 654.91it/s]",
            "_view_count": null,
            "_view_module_version": "1.5.0",
            "description_tooltip": null,
            "_model_module": "@jupyter-widgets/controls",
            "layout": "IPY_MODEL_051ee5c3094743daaaa0339ec2ad9d0f"
          }
        },
        "de44a9a7096f43548f68cd46b313a23e": {
          "model_module": "@jupyter-widgets/controls",
          "model_name": "ProgressStyleModel",
          "state": {
            "_view_name": "StyleView",
            "_model_name": "ProgressStyleModel",
            "description_width": "initial",
            "_view_module": "@jupyter-widgets/base",
            "_model_module_version": "1.5.0",
            "_view_count": null,
            "_view_module_version": "1.2.0",
            "bar_color": null,
            "_model_module": "@jupyter-widgets/controls"
          }
        },
        "b8b838fb7631463eb3e0d193753d2e1c": {
          "model_module": "@jupyter-widgets/base",
          "model_name": "LayoutModel",
          "state": {
            "_view_name": "LayoutView",
            "grid_template_rows": null,
            "right": null,
            "justify_content": null,
            "_view_module": "@jupyter-widgets/base",
            "overflow": null,
            "_model_module_version": "1.2.0",
            "_view_count": null,
            "flex_flow": null,
            "width": null,
            "min_width": null,
            "border": null,
            "align_items": null,
            "bottom": null,
            "_model_module": "@jupyter-widgets/base",
            "top": null,
            "grid_column": null,
            "overflow_y": null,
            "overflow_x": null,
            "grid_auto_flow": null,
            "grid_area": null,
            "grid_template_columns": null,
            "flex": null,
            "_model_name": "LayoutModel",
            "justify_items": null,
            "grid_row": null,
            "max_height": null,
            "align_content": null,
            "visibility": null,
            "align_self": null,
            "height": null,
            "min_height": null,
            "padding": null,
            "grid_auto_rows": null,
            "grid_gap": null,
            "max_width": null,
            "order": null,
            "_view_module_version": "1.2.0",
            "grid_template_areas": null,
            "object_position": null,
            "object_fit": null,
            "grid_auto_columns": null,
            "margin": null,
            "display": null,
            "left": null
          }
        },
        "2c143d279f5b4329963b1923f9d2ca0d": {
          "model_module": "@jupyter-widgets/controls",
          "model_name": "DescriptionStyleModel",
          "state": {
            "_view_name": "StyleView",
            "_model_name": "DescriptionStyleModel",
            "description_width": "",
            "_view_module": "@jupyter-widgets/base",
            "_model_module_version": "1.5.0",
            "_view_count": null,
            "_view_module_version": "1.2.0",
            "_model_module": "@jupyter-widgets/controls"
          }
        },
        "051ee5c3094743daaaa0339ec2ad9d0f": {
          "model_module": "@jupyter-widgets/base",
          "model_name": "LayoutModel",
          "state": {
            "_view_name": "LayoutView",
            "grid_template_rows": null,
            "right": null,
            "justify_content": null,
            "_view_module": "@jupyter-widgets/base",
            "overflow": null,
            "_model_module_version": "1.2.0",
            "_view_count": null,
            "flex_flow": null,
            "width": null,
            "min_width": null,
            "border": null,
            "align_items": null,
            "bottom": null,
            "_model_module": "@jupyter-widgets/base",
            "top": null,
            "grid_column": null,
            "overflow_y": null,
            "overflow_x": null,
            "grid_auto_flow": null,
            "grid_area": null,
            "grid_template_columns": null,
            "flex": null,
            "_model_name": "LayoutModel",
            "justify_items": null,
            "grid_row": null,
            "max_height": null,
            "align_content": null,
            "visibility": null,
            "align_self": null,
            "height": null,
            "min_height": null,
            "padding": null,
            "grid_auto_rows": null,
            "grid_gap": null,
            "max_width": null,
            "order": null,
            "_view_module_version": "1.2.0",
            "grid_template_areas": null,
            "object_position": null,
            "object_fit": null,
            "grid_auto_columns": null,
            "margin": null,
            "display": null,
            "left": null
          }
        }
      }
    }
  },
  "cells": [
    {
      "cell_type": "markdown",
      "metadata": {
        "id": "view-in-github",
        "colab_type": "text"
      },
      "source": [
        "<a href=\"https://colab.research.google.com/github/zebengberg/wasatch/blob/master/colab/GermanTankProblem.ipynb\" target=\"_parent\"><img src=\"https://colab.research.google.com/assets/colab-badge.svg\" alt=\"Open In Colab\"/></a>"
      ]
    },
    {
      "cell_type": "markdown",
      "metadata": {
        "id": "mwdW61XlHSHv"
      },
      "source": [
        "# German Tank Problem\n",
        "> Wasatch Academy Statistics Jan 2019\n",
        "\n",
        "> Updated April 2021\n",
        "\n",
        "---\n",
        "\n",
        "During World War II, it was important for allied commanders to know the size of Germany’s armed forces so that they could allocate their own troops and resources accordingly. In particular, they need to know the total number of tanks in Germany’s arsenal. The allies could not capture and count ALL the German tanks (if they could, the war would have already ended).  Each tank had a sequential serial number on it: 1, 2, 3, and so on.  The number of tanks would then be equal to the highest serial number.  Allied forces were able to capture a handful of tanks and record their serial numbers.  They then enlisted a group of mathematicians in Washington DC to help them.  \n",
        "\n",
        "The list of known serial numbers constituted the **sample**.  The mathematicians came up with a **statistic** -- a formula which they employed to **predict** the total number of German tanks from the known sample.   To see how accurate their statistic was, the Allies simulated the sampling process many times.  The mathematicians then studied the **distribution of predictions**.  This simulation gives what is known as a **sampling distribution** and it can be done for every statistic.  \n",
        "\n",
        "In this activity, you will play the role of the mathematician by creating your own predictive statistic and analyzing its sampling distribution."
      ]
    },
    {
      "cell_type": "code",
      "metadata": {
        "id": "kcIKqLLA_wv0"
      },
      "source": [
        "from collections import defaultdict\n",
        "import numpy as np\n",
        "import matplotlib.pyplot as plt\n",
        "from IPython.display import clear_output\n",
        "from tqdm.notebook import trange"
      ],
      "execution_count": null,
      "outputs": []
    },
    {
      "cell_type": "markdown",
      "metadata": {
        "id": "VZ5WhdZvH9N0"
      },
      "source": [
        "Below is a random sample of 10 of the first 100 whole numbers.  Each time you run the cell below, you will obtain a different random sample."
      ]
    },
    {
      "cell_type": "code",
      "metadata": {
        "id": "N5vb6ToTAHVD",
        "colab": {
          "base_uri": "https://localhost:8080/"
        },
        "outputId": "10ca4ca1-4050-4ad6-e7eb-2a681a623c83"
      },
      "source": [
        "print(np.random.choice(np.arange(1, 101), 10))"
      ],
      "execution_count": null,
      "outputs": [
        {
          "output_type": "stream",
          "text": [
            "[100   1 100  97  44  24  14  75  77   6]\n"
          ],
          "name": "stdout"
        }
      ]
    },
    {
      "cell_type": "markdown",
      "metadata": {
        "id": "19nPm4JJJ6AV"
      },
      "source": [
        "Suppose that the number $N$ is hidden from you, and you consider samples drawn from the whole numbers $1, 2, 3, 4, ..., N$.  Below you have a random sample of size 10.  Based on this sample, try to predict $N$."
      ]
    },
    {
      "cell_type": "code",
      "metadata": {
        "id": "tAN5yVdYAMLS",
        "colab": {
          "base_uri": "https://localhost:8080/"
        },
        "outputId": "e67f78fa-0af2-409d-90db-1730a452f1a1"
      },
      "source": [
        "N = np.random.randint(100, 1000)\n",
        "print(np.random.choice(np.arange(1, N+1), 10))"
      ],
      "execution_count": null,
      "outputs": [
        {
          "output_type": "stream",
          "text": [
            "[482  28 402 144  51 384 214 443 218 190]\n"
          ],
          "name": "stdout"
        }
      ]
    },
    {
      "cell_type": "markdown",
      "metadata": {
        "id": "CL6iCkHHMIbm"
      },
      "source": [
        "Do you have a prediction for $N$?  To check how close your prediction is to the truth, run the cell below."
      ]
    },
    {
      "cell_type": "code",
      "metadata": {
        "id": "eqEj0hUsAMtp",
        "colab": {
          "base_uri": "https://localhost:8080/"
        },
        "outputId": "b72b5a5e-1362-4806-bdd6-c3c6d50fdf8b"
      },
      "source": [
        "N"
      ],
      "execution_count": null,
      "outputs": [
        {
          "output_type": "execute_result",
          "data": {
            "text/plain": [
              "649"
            ]
          },
          "metadata": {
            "tags": []
          },
          "execution_count": 4
        }
      ]
    },
    {
      "cell_type": "markdown",
      "metadata": {
        "id": "m90qNxD2MYfS"
      },
      "source": [
        "## Instructions\n",
        "\n",
        "In this activity, you will be given a sample consisting of 50 of the first $N$ whole numbers.  Your goal is to create a function which, based on the values of the sample, predicts the number $N$.  The input of your function is the sample of the 50 known values, and the output of your function is your prediction for $N$.\n",
        "\n",
        "Below we define the class `Predictions` which will:\n",
        "- keep track of your prediction function\n",
        "- simulate your function on samples using a trial value of $N=333$\n",
        "- act as an agent to make a prediction from the competition sample using a hidden value of $N$"
      ]
    },
    {
      "cell_type": "code",
      "metadata": {
        "id": "e36dCwt0lju8"
      },
      "source": [
        "class Predictions:\n",
        "  \n",
        "  def __init__(self, name):\n",
        "    self.name = name\n",
        "    self.predict = lambda x: None  # an empty function which will be filled\n",
        "    self.N = 333  # a test number for simulation purposes\n",
        "    self.predictions = []\n",
        "    \n",
        "    \n",
        "  def batch_predict(self, n_samples):\n",
        "    for _ in range(n_samples):\n",
        "      sample = np.random.choice(self.N, 50)\n",
        "      result = self.predict(sample)\n",
        "      self.predictions.append(result)\n",
        "\n",
        "  \n",
        "  def hist(self):\n",
        "    self.batch_predict(10000)\n",
        "    bins = np.arange(self.N - 100, self.N + 100) - 0.5\n",
        "    plt.figure(figsize=(12, 8))\n",
        "    plt.hist(self.predictions, bins)\n",
        "    plt.xlabel('Prediction Value')\n",
        "    plt.ylabel('Frequency')\n",
        "    plt.axvline(x=self.N, color='yellow')\n",
        "    plt.show()\n",
        "    \n",
        "    \n",
        "  def dotplot(self):\n",
        "    dots = defaultdict(int)\n",
        "    while True:\n",
        "      print('Press ENTER, or give a number of samples, or type \"stop\"')\n",
        "      run = input('')\n",
        "      if run == 'stop':\n",
        "        break\n",
        "\n",
        "      try:\n",
        "        n_samples = int(run)\n",
        "      except ValueError:\n",
        "        n_samples = 1\n",
        "        \n",
        "      self.batch_predict(n_samples)\n",
        "      preds = self.predictions[-n_samples:]\n",
        "      \n",
        "      for pred in preds:\n",
        "        dots[pred] += 1\n",
        "\n",
        "      clear_output()\n",
        "      plt.figure(figsize=(10, 6))\n",
        "      plt.xlim(\n",
        "          min(self.N - 5, min(dots.keys()) - 1),\n",
        "          max(self.N + 5, max(dots.keys()) + 1)\n",
        "      )\n",
        "      plt.ylim(0, max(10, max(dots.values()) + 1))\n",
        "      plt.xlabel('Predicted N')\n",
        "      plt.ylabel('Number of predictions')\n",
        "      plt.axvline(x=self.N, color='yellow')\n",
        "\n",
        "      x, y = [], []\n",
        "      for k, v in dots.items():\n",
        "        x += [k for s in range(v)] \n",
        "        y += list(range(1, v + 1))\n",
        "\n",
        "      plt.plot(x, y, 'bo')\n",
        "      plt.plot(self.predictions[-1], dots[self.predictions[-1]], 'ro')\n",
        "      plt.show()"
      ],
      "execution_count": null,
      "outputs": []
    },
    {
      "cell_type": "markdown",
      "metadata": {
        "id": "WVSne5B7hk4J"
      },
      "source": [
        "## Demonstration\n",
        "\n",
        "Here we define an object called `harold`.  We record its prediction function as `harold.f`.  Note that our prediction function takes the maximum of the given sample."
      ]
    },
    {
      "cell_type": "code",
      "metadata": {
        "id": "Kw09mIGCgRxl"
      },
      "source": [
        "harold = Predictions('harold')\n",
        "harold.predict = lambda x: np.max(x)"
      ],
      "execution_count": null,
      "outputs": []
    },
    {
      "cell_type": "markdown",
      "metadata": {
        "id": "hDqnK8dyj7MM"
      },
      "source": [
        "We pull samples of size 50 from the numbers $1, 2, 3, ..., N$ where $N=333$.  The `harold` prediction function gives the max value of the sample set.  Below is a dotplot of this process over many samples.  The true value of $N$ is the yellow vertical line."
      ]
    },
    {
      "cell_type": "code",
      "metadata": {
        "id": "X16E-u-hjreJ",
        "colab": {
          "base_uri": "https://localhost:8080/",
          "height": 425
        },
        "outputId": "ec257760-b502-46cf-d38d-1cdf983e1f7a"
      },
      "source": [
        "harold.dotplot()"
      ],
      "execution_count": null,
      "outputs": [
        {
          "output_type": "display_data",
          "data": {
            "image/png": "[encoded data removed]",
            "text/plain": [
              "<Figure size 720x432 with 1 Axes>"
            ]
          },
          "metadata": {
            "tags": [],
            "needs_background": "light"
          }
        },
        {
          "output_type": "stream",
          "text": [
            "Press ENTER, or give a number of samples, or type \"stop\"\n",
            "stop\n"
          ],
          "name": "stdout"
        }
      ]
    },
    {
      "cell_type": "markdown",
      "metadata": {
        "id": "o4UgP0yNe9tY"
      },
      "source": [
        "If we continue to do this for 10000 samples, we obtain the following histogram.  The bin-size of this histogram is 1."
      ]
    },
    {
      "cell_type": "code",
      "metadata": {
        "id": "guJivGexQEvi",
        "colab": {
          "base_uri": "https://localhost:8080/",
          "height": 497
        },
        "outputId": "3fe4ad06-4cd7-4571-c466-f67b856cd88b"
      },
      "source": [
        "harold.hist()"
      ],
      "execution_count": null,
      "outputs": [
        {
          "output_type": "display_data",
          "data": {
            "image/png": "[encoded data removed]",
            "text/plain": [
              "<Figure size 864x576 with 1 Axes>"
            ]
          },
          "metadata": {
            "tags": [],
            "needs_background": "light"
          }
        }
      ]
    },
    {
      "cell_type": "markdown",
      "metadata": {
        "id": "Ql0atxGUrVAo"
      },
      "source": [
        "Below are several examples of `Predictions` object.  The objects all contain their own demo functions."
      ]
    },
    {
      "cell_type": "code",
      "metadata": {
        "id": "IRU5gT66pFOF"
      },
      "source": [
        "annie = Predictions('annie')\n",
        "annie.predict = lambda x:  np.percentile(x, 40) + np.percentile(x, 60)\n",
        "\n",
        "\n",
        "billy = Predictions('billy')\n",
        "billy.predict = lambda x: 300 + np.percentile(x, 30)**(.8)\n",
        "\n",
        "\n",
        "agents = [harold, annie, billy]"
      ],
      "execution_count": null,
      "outputs": []
    },
    {
      "cell_type": "markdown",
      "metadata": {
        "id": "yzKcekfiwoci"
      },
      "source": [
        "We can visualize their histograms on the same axes to get a sense of their shape, bias, center, and spread.  We run each prediction function on 10,000 samples."
      ]
    },
    {
      "cell_type": "code",
      "metadata": {
        "id": "jVF0fiFnpJIu",
        "colab": {
          "base_uri": "https://localhost:8080/",
          "height": 482
        },
        "outputId": "13969afe-abdf-4c3c-aafe-dc123e94da8c"
      },
      "source": [
        "bins = np.arange(200, 500) - 0.5\n",
        "\n",
        "plt.figure(figsize=(12, 8))\n",
        "\n",
        "for agent in agents:\n",
        "  agent.batch_predict(10000)\n",
        "  plt.hist(agent.predictions, bins, alpha=0.5, label=agent.name)\n",
        "  plt.axvline(x=agent.N, color='yellow')\n",
        "\n",
        "plt.legend(loc='upper right')\n",
        "plt.show()"
      ],
      "execution_count": null,
      "outputs": [
        {
          "output_type": "display_data",
          "data": {
            "image/png": "[encoded data removed]",
            "text/plain": [
              "<Figure size 864x576 with 1 Axes>"
            ]
          },
          "metadata": {
            "tags": [],
            "needs_background": "light"
          }
        }
      ]
    },
    {
      "cell_type": "markdown",
      "metadata": {
        "id": "x3hWMtedWY12"
      },
      "source": [
        "A histogram inspiring by student questions.  The three statistics below sum the $k$th percentile with the $(100-k)$th percentile.  Note the spread of the three sampling distributions."
      ]
    },
    {
      "cell_type": "code",
      "metadata": {
        "id": "owfm_AfB5eIj",
        "colab": {
          "base_uri": "https://localhost:8080/",
          "height": 482
        },
        "outputId": "a5d1e821-b30a-4c4e-deb9-33a1e88f3763"
      },
      "source": [
        "agents = [Predictions('test0'), Predictions('test10'), Predictions('test40')]\n",
        "\n",
        "agents[0].predict = lambda x: np.percentile(x, 0) + np.percentile(x, 100)\n",
        "agents[1].predict = lambda x: np.percentile(x, 10) + np.percentile(x, 90)\n",
        "agents[2].predict = lambda x: np.percentile(x, 40) + np.percentile(x, 60)\n",
        "\n",
        "\n",
        "bins = np.arange(200, 500) - 0.5\n",
        "\n",
        "plt.figure(figsize=(12, 8))\n",
        "\n",
        "for agent in agents:\n",
        "  agent.batch_predict(20000)\n",
        "  \n",
        "  plt.hist(agent.predictions, bins, alpha=0.5, label=agent.name)\n",
        "  plt.axvline(x=agent.N, color='yellow')\n",
        "\n",
        "plt.legend(loc='upper right')\n",
        "plt.show()"
      ],
      "execution_count": null,
      "outputs": [
        {
          "output_type": "display_data",
          "data": {
            "image/png": "[encoded data removed]",
            "text/plain": [
              "<Figure size 864x576 with 1 Axes>"
            ]
          },
          "metadata": {
            "tags": [],
            "needs_background": "light"
          }
        }
      ]
    },
    {
      "cell_type": "markdown",
      "metadata": {
        "id": "3qwi1eWhkMdD"
      },
      "source": [
        "## Student Statistics, Jan 2019"
      ]
    },
    {
      "cell_type": "code",
      "metadata": {
        "id": "7R0IC-3IkVsw"
      },
      "source": [
        "agents = []\n",
        "\n",
        "####################\n",
        "# Sam, Monty, Willow\n",
        "####################\n",
        "\n",
        "agent = Predictions('smw')\n",
        "agent.predict = lambda x: int(np.max(x) + (np.max(x) - np.min(x)) / 49)\n",
        "agents.append(agent)\n",
        "\n",
        "agent = Predictions('smw2')\n",
        "agent.predict = lambda x: int(np.max(x) + np.min(x))\n",
        "agents.append(agent)\n",
        "\n",
        "\n",
        "#####################\n",
        "# Arina, Sean, Karuna\n",
        "#####################\n",
        "\n",
        "agent = Predictions('ksa')\n",
        "agent.predict = lambda x: int(np.min(x) + 2*(np.percentile(x, 75) - np.percentile(x, 25)))\n",
        "agents.append(agent)\n",
        "\n",
        "agent = Predictions('ksa2')\n",
        "agent.predict = lambda x: int(np.mean(x) + np.percentile(x, 75) - np.percentile(x, 25))\n",
        "agents.append(agent)\n",
        "\n",
        "\n",
        "####################\n",
        "# Teagan, Mae, Logan\n",
        "####################\n",
        "\n",
        "agent = Predictions('toejam')\n",
        "agent.predict = lambda x: int(np.max(x) + .05*np.std(x))\n",
        "agents.append(agent)\n",
        "\n",
        "agent = Predictions('toejam2')\n",
        "agent.predict = lambda x: int(np.percentile(x, 5) + np.percentile(x, 95))\n",
        "agents.append(agent)"
      ],
      "execution_count": null,
      "outputs": []
    },
    {
      "cell_type": "markdown",
      "metadata": {
        "id": "KuVrqdHScMp2"
      },
      "source": [
        "### The tournament\n",
        "\n",
        "Now that we have all of the agents with their prediction functions, they will compete to predict the number $N$ with the most accuracy.\n",
        "\n",
        "We run one million rounds in this tournament.  In each round, the agents make predictions, and we track various errors between their prediction and the truth."
      ]
    },
    {
      "cell_type": "code",
      "metadata": {
        "id": "xCluwV2B5gTe",
        "colab": {
          "base_uri": "https://localhost:8080/",
          "height": 65,
          "referenced_widgets": [
            "7ba0c92e7fe0477cad994119a13dc4e6",
            "b4a10b43e4bd40cf809d1b44bb1ef828",
            "1350f8105d824aab9b9498cfaf368ac1",
            "f473eeb04db2403d9107c9eb14867fd6",
            "237c0421036f4dc9974e45008b025e03",
            "e0aeffe6acae43eaa681a337aeb377df",
            "131923b8ddc844f78a01dd7e3146c7f4",
            "1b90265c31f74686870f6b50295202e9"
          ]
        },
        "outputId": "b70f184a-e4c9-4281-a6f7-f7d0bf021f50"
      },
      "source": [
        "for agent in agents:\n",
        "  agent.mse = 0  # mean squared error\n",
        "  agent.mae = 0  # mean absolute error\n",
        "  agent.mde = 0  # mean diff (signed) error\n",
        "  agent.n_bullseye = 0\n",
        "\n",
        "\n",
        "n_rounds = 100_000\n",
        "for _ in trange(n_rounds):\n",
        "  N = np.random.randint(500, 1000) # The hidden number to be used in the round.\n",
        "  sample = np.random.choice(N, 50) # The sample which is known by all agents.\n",
        "\n",
        "  for agent in agents:\n",
        "    pred = agent.predict(sample)\n",
        "    error = pred - N\n",
        "    agent.mde += error\n",
        "    agent.mae += abs(error)\n",
        "    agent.mse += error ** 2\n",
        "    if error == 0:\n",
        "      agent.n_bullseye += 1\n",
        "\n",
        "for agent in agents:\n",
        "  agent.mde /= n_rounds\n",
        "  agent.mae /= n_rounds\n",
        "  agent.mse /= n_rounds"
      ],
      "execution_count": null,
      "outputs": [
        {
          "output_type": "display_data",
          "data": {
            "application/vnd.jupyter.widget-view+json": {
              "model_id": "7ba0c92e7fe0477cad994119a13dc4e6",
              "version_minor": 0,
              "version_major": 2
            },
            "text/plain": [
              "HBox(children=(FloatProgress(value=0.0, max=100000.0), HTML(value='')))"
            ]
          },
          "metadata": {
            "tags": []
          }
        },
        {
          "output_type": "stream",
          "text": [
            "\n"
          ],
          "name": "stdout"
        }
      ]
    },
    {
      "cell_type": "markdown",
      "metadata": {
        "id": "4rkZBO5fZ6xq"
      },
      "source": [
        "Printing the results."
      ]
    },
    {
      "cell_type": "code",
      "metadata": {
        "id": "xJjq7UdhaCsI",
        "colab": {
          "base_uri": "https://localhost:8080/"
        },
        "outputId": "a7f1a445-5acf-4b85-cbd7-7ff6877ef219"
      },
      "source": [
        "long_names = {\n",
        "    'mae': 'Mean Absolute Error',\n",
        "    'mse': 'Mean Squared Error',\n",
        "    'mde': 'Mean Signed Error',\n",
        "    'n_bullseye': 'Number of Bullseyes'\n",
        "}\n",
        "for metric in ['mae', 'mse', 'mde', 'n_bullseye']:\n",
        "  scores = [(agent.name, getattr(agent, metric)) for agent in agents]\n",
        "  scores = sorted(scores, key=lambda x: x[1])\n",
        "  print(f'{\"NAME\" : <10}{long_names[metric].upper()}')\n",
        "  for score in scores:\n",
        "    name, value = score\n",
        "    print(f'{name : <10}{value}')\n",
        "\n",
        "  print('\\n' + '#' * 50 + '\\n\\n')"
      ],
      "execution_count": null,
      "outputs": [
        {
          "output_type": "stream",
          "text": [
            "NAME      MEAN ABSOLUTE ERROR\n",
            "toejam    10.26847\n",
            "smw       10.69202\n",
            "smw2      14.7326\n",
            "toejam2   28.52363\n",
            "ksa2      49.06096\n",
            "ksa       82.15067\n",
            "\n",
            "##################################################\n",
            "\n",
            "\n",
            "NAME      MEAN SQUARED ERROR\n",
            "smw       227.18292\n",
            "toejam    249.51639\n",
            "smw2      443.4638\n",
            "toejam2   1401.34889\n",
            "ksa2      3949.19126\n",
            "ksa       10941.57789\n",
            "\n",
            "##################################################\n",
            "\n",
            "\n",
            "NAME      MEAN SIGNED ERROR\n",
            "ksa2      -15.44744\n",
            "ksa       -15.08911\n",
            "toejam    -4.98399\n",
            "toejam2   -1.28011\n",
            "smw       -0.9659\n",
            "smw2      -0.96396\n",
            "\n",
            "##################################################\n",
            "\n",
            "\n",
            "NAME      NUMBER OF BULLSEYES\n",
            "ksa       398\n",
            "ksa2      704\n",
            "toejam2   1203\n",
            "smw       2845\n",
            "smw2      3208\n",
            "toejam    3677\n",
            "\n",
            "##################################################\n",
            "\n",
            "\n"
          ],
          "name": "stdout"
        }
      ]
    },
    {
      "cell_type": "markdown",
      "metadata": {
        "id": "3R21gfM_Thav"
      },
      "source": [
        "## Student Statistics, April 2021"
      ]
    },
    {
      "cell_type": "code",
      "metadata": {
        "id": "e06O8avFTjwH"
      },
      "source": [
        "agents = []\n",
        "\n",
        "########################\n",
        "# Griff, Nikki, Kai, Anh\n",
        "########################\n",
        "\n",
        "agent = Predictions('gank mean')\n",
        "agent.predict = lambda x: int(np.mean(x) + 7/4 * np.std(x))\n",
        "agents.append(agent)\n",
        "\n",
        "agent = Predictions('gank median')\n",
        "agent.predict = lambda x: int(np.median(x) + 7/4 * np.std(x))\n",
        "agents.append(agent)\n",
        "\n",
        "agent = Predictions('gank diff')\n",
        "agent.predict = lambda x: int((1 + 1 / (np.max(x) - np.min(x))) * np.max(x))\n",
        "agents.append(agent)\n",
        "\n",
        "##############\n",
        "# Emily, Ryder \n",
        "##############\n",
        "\n",
        "agent = Predictions('cobra')\n",
        "agent.predict = lambda x: int(2 * np.mean(x))\n",
        "agents.append(agent)\n",
        "\n",
        "agent = Predictions('snake')\n",
        "agent.predict = lambda x: int(np.percentile(x, 25) + np.percentile(x, 75))\n",
        "agents.append(agent)\n",
        "\n",
        "##################################\n",
        "# Gab, Sammy, Chris, Hiroki, Roger\n",
        "##################################\n",
        "\n",
        "agent = Predictions('sammy')\n",
        "agent.predict = lambda x: int(2 * np.mean(x))\n",
        "agents.append(agent)\n",
        "\n",
        "agent = Predictions('hiroki')\n",
        "agent.predict = lambda x: int(np.percentile(x, 25) + np.percentile(x, 75))\n",
        "agents.append(agent)\n",
        "\n",
        "agent = Predictions('chris')\n",
        "agent.predict = lambda x: int(np.percentile(x, 25) + np.percentile(x, 75))\n",
        "agents.append(agent)\n",
        "\n",
        "agent = Predictions('jesus')\n",
        "agent.predict = lambda x: int(np.max(x) + ((np.percentile(x, 10) + np.percentile(x, 90)) / 2 - 50) / 50)\n",
        "agents.append(agent)\n",
        "\n",
        "###################\n",
        "# Brody, Ryan, Luke\n",
        "###################\n",
        "\n",
        "agent = Predictions('brody')\n",
        "agent.predict = lambda x: int(51 / 50 * np.max(x) - 6)\n",
        "agents.append(agent)\n",
        "\n",
        "agent = Predictions('luke')\n",
        "agent.predict = lambda x: int(np.max(x) + np.max(x) / (np.min(x) + 1) - 25)\n",
        "agents.append(agent)\n",
        "\n",
        "########################\n",
        "# Zac, David, Ethan, Leo\n",
        "########################\n",
        "\n",
        "def predict(x):\n",
        "  x = sorted(x)\n",
        "  means = [np.mean(x[i: i + 5]) for i in range(0, 50, 5)]\n",
        "  return np.mean(means)\n",
        "\n",
        "agent = Predictions('nihao')\n",
        "agent.predict = predict\n",
        "agents.append(agent)\n",
        "\n",
        "###############\n",
        "# Engberg Roger\n",
        "###############\n",
        "\n",
        "agent = Predictions('engberg-roger')\n",
        "agent.predict = lambda x: int(np.max(x) + 12)\n",
        "agents.append(agent)"
      ],
      "execution_count": null,
      "outputs": []
    },
    {
      "cell_type": "code",
      "metadata": {
        "id": "K3ZO5dNp2MBa",
        "colab": {
          "base_uri": "https://localhost:8080/",
          "height": 66,
          "referenced_widgets": [
            "e46c96b94d7a4655afb9eff1bea596fd",
            "35c4146e4d584249af0ec4a4e6791bf0",
            "f375024064cc48eba1c85c330878c69c",
            "824b2b7edf624305adbf62f01a453a6c",
            "de44a9a7096f43548f68cd46b313a23e",
            "b8b838fb7631463eb3e0d193753d2e1c",
            "2c143d279f5b4329963b1923f9d2ca0d",
            "051ee5c3094743daaaa0339ec2ad9d0f"
          ]
        },
        "outputId": "b0e6ef1e-6a41-49ed-d61e-aeb135b4a9bc"
      },
      "source": [
        "for agent in agents:\n",
        "  agent.mse = 0  # mean squared error\n",
        "  agent.mae = 0  # mean absolute error\n",
        "  agent.mde = 0  # mean diff (signed) error\n",
        "  agent.n_bullseye = 0\n",
        "\n",
        "\n",
        "n_rounds = 100_000\n",
        "for _ in trange(n_rounds):\n",
        "  N = np.random.randint(500, 1000) # The hidden number to be used in the round.\n",
        "  sample = np.random.choice(N, 50) # The sample which is known by all agents.\n",
        "\n",
        "  for agent in agents:\n",
        "    pred = agent.predict(sample)\n",
        "    error = pred - N\n",
        "    agent.mde += error\n",
        "    agent.mae += abs(error)\n",
        "    agent.mse += error ** 2\n",
        "    if error == 0:\n",
        "      agent.n_bullseye += 1\n",
        "\n",
        "for agent in agents:\n",
        "  agent.mde /= n_rounds\n",
        "  agent.mae /= n_rounds\n",
        "  agent.mse /= n_rounds"
      ],
      "execution_count": null,
      "outputs": [
        {
          "output_type": "display_data",
          "data": {
            "application/vnd.jupyter.widget-view+json": {
              "model_id": "e46c96b94d7a4655afb9eff1bea596fd",
              "version_minor": 0,
              "version_major": 2
            },
            "text/plain": [
              "HBox(children=(FloatProgress(value=0.0, max=100000.0), HTML(value='')))"
            ]
          },
          "metadata": {
            "tags": []
          }
        },
        {
          "output_type": "stream",
          "text": [
            "\n"
          ],
          "name": "stdout"
        }
      ]
    },
    {
      "cell_type": "code",
      "metadata": {
        "id": "VSpRRe5O9HIF",
        "colab": {
          "base_uri": "https://localhost:8080/"
        },
        "outputId": "2aee0d63-c7ae-46f6-a2a1-bd0e59d59d1c"
      },
      "source": [
        "long_names = {\n",
        "    'mae': 'Mean Absolute Error',\n",
        "    'mse': 'Mean Squared Error',\n",
        "    'mde': 'Mean Signed Error',\n",
        "    'n_bullseye': 'Number of Bullseyes'\n",
        "}\n",
        "for metric in ['mae', 'mse', 'mde', 'n_bullseye']:\n",
        "  scores = [(agent.name, getattr(agent, metric)) for agent in agents]\n",
        "  scores = sorted(scores, key=lambda x: x[1])\n",
        "  print(f'{\"NAME\" : <15}{long_names[metric].upper()}')\n",
        "  for score in scores:\n",
        "    name, value = score\n",
        "    print(f'{name : <15}{value}')\n",
        "\n",
        "  print('\\n' + '#' * 50 + '\\n\\n')"
      ],
      "execution_count": null,
      "outputs": [
        {
          "output_type": "stream",
          "text": [
            "NAME           MEAN ABSOLUTE ERROR\n",
            "engberg-roger  10.276\n",
            "brody          10.57708\n",
            "jesus          11.05805\n",
            "gank diff      14.19963\n",
            "gank mean      31.26424\n",
            "gank median    45.63872\n",
            "cobra          48.93318\n",
            "sammy          48.93318\n",
            "snake          59.42686\n",
            "hiroki         59.42686\n",
            "chris          59.42686\n",
            "luke           108.82571\n",
            "nihao          375.15646720000274\n",
            "\n",
            "##################################################\n",
            "\n",
            "\n",
            "NAME           MEAN SQUARED ERROR\n",
            "engberg-roger  230.98952\n",
            "brody          270.23454\n",
            "jesus          304.05359\n",
            "gank diff      422.43343\n",
            "gank mean      1598.33148\n",
            "gank median    3382.96654\n",
            "cobra          3900.56936\n",
            "sammy          3900.56936\n",
            "snake          5764.82336\n",
            "hiroki         5764.82336\n",
            "chris          5764.82336\n",
            "luke           42911.18131\n",
            "nihao          146900.11765291056\n",
            "\n",
            "##################################################\n",
            "\n",
            "\n",
            "NAME           MEAN SIGNED ERROR\n",
            "nihao          -375.15646720000274\n",
            "gank diff      -14.19963\n",
            "jesus          -9.20305\n",
            "brody          -6.99432\n",
            "engberg-roger  -3.19252\n",
            "gank mean      -1.52988\n",
            "gank median    -1.41854\n",
            "cobra          -1.19126\n",
            "sammy          -1.19126\n",
            "snake          -1.06592\n",
            "hiroki         -1.06592\n",
            "chris          -1.06592\n",
            "luke           98.20693\n",
            "\n",
            "##################################################\n",
            "\n",
            "\n",
            "NAME           NUMBER OF BULLSEYES\n",
            "nihao          0\n",
            "snake          564\n",
            "hiroki         564\n",
            "chris          564\n",
            "cobra          634\n",
            "sammy          634\n",
            "gank median    690\n",
            "luke           956\n",
            "gank mean      1065\n",
            "engberg-roger  3132\n",
            "brody          4227\n",
            "jesus          4885\n",
            "gank diff      6543\n",
            "\n",
            "##################################################\n",
            "\n",
            "\n"
          ],
          "name": "stdout"
        }
      ]
    },
    {
      "cell_type": "code",
      "metadata": {
        "id": "goO0Ro8j9MUE"
      },
      "source": [
        ""
      ],
      "execution_count": null,
      "outputs": []
    }
  ]
}